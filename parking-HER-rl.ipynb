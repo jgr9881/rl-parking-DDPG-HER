{
 "cells": [
  {
   "cell_type": "markdown",
   "metadata": {},
   "source": [
    "Julien Gauthier"
   ]
  },
  {
   "cell_type": "markdown",
   "metadata": {},
   "source": []
  },
  {
   "cell_type": "code",
   "execution_count": 5,
   "metadata": {},
   "outputs": [
    {
     "name": "stdout",
     "output_type": "stream",
     "text": [
      "^C\n",
      "Note: you may need to restart the kernel to use updated packages.\n"
     ]
    }
   ],
   "source": [
    "%pip install stable-baselines3[extra] highway-env"
   ]
  },
  {
   "cell_type": "code",
   "execution_count": 3,
   "metadata": {},
   "outputs": [],
   "source": [
    "import stable_baselines3 as sb3\n",
    "import gymnasium as gym\n",
    "from stable_baselines3 import HerReplayBuffer, DDPG\n",
    "from tqdm.notebook import trange"
   ]
  },
  {
   "cell_type": "code",
   "execution_count": 5,
   "metadata": {},
   "outputs": [
    {
     "name": "stdout",
     "output_type": "stream",
     "text": [
      "Requirement already satisfied: tensorboardx in c:\\users\\julie\\onedrive\\bureau\\enseeiht\\projet-perso\\parking-hindsight-experience-replay\\.venv\\lib\\site-packages (2.6.2.2)\n",
      "Requirement already satisfied: gym in c:\\users\\julie\\onedrive\\bureau\\enseeiht\\projet-perso\\parking-hindsight-experience-replay\\.venv\\lib\\site-packages (0.26.2)\n",
      "Requirement already satisfied: pyvirtualdisplay in c:\\users\\julie\\onedrive\\bureau\\enseeiht\\projet-perso\\parking-hindsight-experience-replay\\.venv\\lib\\site-packages (3.0)\n",
      "Requirement already satisfied: numpy in c:\\users\\julie\\onedrive\\bureau\\enseeiht\\projet-perso\\parking-hindsight-experience-replay\\.venv\\lib\\site-packages (from tensorboardx) (1.26.4)\n",
      "Requirement already satisfied: packaging in c:\\users\\julie\\onedrive\\bureau\\enseeiht\\projet-perso\\parking-hindsight-experience-replay\\.venv\\lib\\site-packages (from tensorboardx) (24.0)\n",
      "Requirement already satisfied: protobuf>=3.20 in c:\\users\\julie\\onedrive\\bureau\\enseeiht\\projet-perso\\parking-hindsight-experience-replay\\.venv\\lib\\site-packages (from tensorboardx) (5.27.0)\n",
      "Requirement already satisfied: cloudpickle>=1.2.0 in c:\\users\\julie\\onedrive\\bureau\\enseeiht\\projet-perso\\parking-hindsight-experience-replay\\.venv\\lib\\site-packages (from gym) (3.0.0)\n",
      "Requirement already satisfied: gym-notices>=0.0.4 in c:\\users\\julie\\onedrive\\bureau\\enseeiht\\projet-perso\\parking-hindsight-experience-replay\\.venv\\lib\\site-packages (from gym) (0.0.8)\n",
      "Note: you may need to restart the kernel to use updated packages.\n",
      "Requirement already satisfied: ffmpeg-python in c:\\users\\julie\\onedrive\\bureau\\enseeiht\\projet-perso\\parking-hindsight-experience-replay\\.venv\\lib\\site-packages (0.2.0)\n",
      "Requirement already satisfied: future in c:\\users\\julie\\onedrive\\bureau\\enseeiht\\projet-perso\\parking-hindsight-experience-replay\\.venv\\lib\\site-packages (from ffmpeg-python) (1.0.0)\n",
      "Note: you may need to restart the kernel to use updated packages.\n"
     ]
    }
   ],
   "source": [
    "#@title Import helpers for visualization of episodes\n",
    "import sys\n",
    "%pip install tensorboardx gym pyvirtualdisplay\n",
    "%pip install ffmpeg-python\n",
    "sys.path.insert(0, 'HighwayEnv/scripts')\n",
    "from highway_env.utils import record_videos, show_videos"
   ]
  },
  {
   "cell_type": "code",
   "execution_count": null,
   "metadata": {},
   "outputs": [],
   "source": [
    "env = gym.make(\"parking-v0\", render_mode='human')\n",
    "\n",
    "model = DDPG(\n",
    "    \"MultiInputPolicy\",\n",
    "    env,\n",
    "    replay_buffer_class=HerReplayBuffer,\n",
    "    replay_buffer_kwargs=dict(n_sampled_goal=4, goal_selection_strategy='future'),\n",
    "    verbose=1,\n",
    "    device='cuda'\n",
    ")\n",
    "model.learn(100000)\n",
    "\n",
    "episodes = 10\n",
    "\n",
    "env = gym.make('parking-v0', render_mode='rgb_array')\n",
    "#env = record_videos(env)\n",
    "\n",
    "for episode in trange ((episodes), desc=\"Test episodes\"):\n",
    "    obs, info = env.reset()\n",
    "    done = truncated = False\n",
    "    while not (done or truncated):\n",
    "        action, _ = model.predict(obs, deterministic=True)\n",
    "        obs, reward, done, truncated, info = env.step(action)\n",
    "env.close()\n",
    "\n",
    "#show_videos()\n"
   ]
  },
  {
   "cell_type": "code",
   "execution_count": 19,
   "metadata": {},
   "outputs": [],
   "source": [
    "model.save('pre-trained-model.h5f')\n"
   ]
  },
  {
   "cell_type": "code",
   "execution_count": 5,
   "metadata": {},
   "outputs": [
    {
     "name": "stdout",
     "output_type": "stream",
     "text": [
      "Wrapping the env with a `Monitor` wrapper\n",
      "Wrapping the env in a DummyVecEnv.\n"
     ]
    }
   ],
   "source": [
    "# Create a new environment\n",
    "env = gym.make(\"parking-v0\", render_mode='human')\n",
    "# Load the trained model\n",
    "loaded_model = DDPG.load('pre-trained-DDPG-HER.h5f', env=env)\n",
    "\n",
    "nb_tests = 10\n",
    "\n",
    "# Test the trained model\n",
    "obs, _ = env.reset()\n",
    "for episode in range(nb_tests):\n",
    "    obs, info = env.reset()\n",
    "    done = truncated = False\n",
    "    while not (done or truncated):\n",
    "        action, _ = loaded_model.predict(obs, deterministic=True)\n",
    "        obs, reward, done, truncated, info = env.step(action)\n",
    "env.close()\n"
   ]
  }
 ],
 "metadata": {
  "kernelspec": {
   "display_name": ".venv",
   "language": "python",
   "name": "python3"
  },
  "language_info": {
   "codemirror_mode": {
    "name": "ipython",
    "version": 3
   },
   "file_extension": ".py",
   "mimetype": "text/x-python",
   "name": "python",
   "nbconvert_exporter": "python",
   "pygments_lexer": "ipython3",
   "version": "3.11.3"
  }
 },
 "nbformat": 4,
 "nbformat_minor": 2
}
