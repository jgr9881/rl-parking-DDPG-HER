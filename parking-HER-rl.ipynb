{
 "cells": [
  {
   "cell_type": "markdown",
   "metadata": {},
   "source": [
    "Julien Gauthier"
   ]
  },
  {
   "cell_type": "markdown",
   "metadata": {},
   "source": [
    "# Reinforcement Learning (DDPG - HER) Project : Self Parking Car"
   ]
  },
  {
   "cell_type": "markdown",
   "metadata": {},
   "source": [
    "##### Install the correct dependencies :"
   ]
  },
  {
   "cell_type": "code",
   "execution_count": null,
   "metadata": {},
   "outputs": [],
   "source": [
    "%pip install stable-baselines3[extra] highway-env"
   ]
  },
  {
   "cell_type": "code",
   "execution_count": 1,
   "metadata": {},
   "outputs": [],
   "source": [
    "import stable_baselines3 as sb3\n",
    "import gymnasium as gym\n",
    "from stable_baselines3 import HerReplayBuffer, DDPG\n",
    "from tqdm.notebook import trange"
   ]
  },
  {
   "cell_type": "code",
   "execution_count": null,
   "metadata": {},
   "outputs": [],
   "source": [
    "# ONLY FOR VIDEO RECORDING : (OPTIONNAL IMPORTS)\n",
    "import sys\n",
    "%pip install tensorboardx gym pyvirtualdisplay\n",
    "%pip install ffmpeg-python\n",
    "sys.path.insert(0, 'HighwayEnv/scripts')\n",
    "from highway_env.utils import record_videos, show_videos"
   ]
  },
  {
   "cell_type": "markdown",
   "metadata": {},
   "source": [
    "### We'll be using the \"parking-v0\" (third-party) environment with a DDPG-HerReplayBuffer agent."
   ]
  },
  {
   "cell_type": "code",
   "execution_count": null,
   "metadata": {},
   "outputs": [],
   "source": [
    "env = gym.make(\"parking-v0\", render_mode='human')\n",
    "\n",
    "model = DDPG(\n",
    "    \"MultiInputPolicy\",\n",
    "    env,\n",
    "    replay_buffer_class=HerReplayBuffer,\n",
    "    replay_buffer_kwargs=dict(n_sampled_goal=4, goal_selection_strategy='future'),\n",
    "    verbose=1,\n",
    "    device='cuda'\n",
    ")\n"
   ]
  },
  {
   "cell_type": "markdown",
   "metadata": {},
   "source": [
    "### Insert the parameters for the training :"
   ]
  },
  {
   "cell_type": "code",
   "execution_count": null,
   "metadata": {},
   "outputs": [],
   "source": [
    "NUM_EPISODES = 10\n",
    "NUM_STEPS = 30000"
   ]
  },
  {
   "cell_type": "markdown",
   "metadata": {},
   "source": [
    "## Training the agent in the Parking environment :"
   ]
  },
  {
   "cell_type": "code",
   "execution_count": null,
   "metadata": {},
   "outputs": [],
   "source": [
    "model.learn(NUM_STEPS)\n",
    "\n",
    "env = gym.make('parking-v0', render_mode='rgb_array')\n",
    "\n",
    "#env = record_videos(env) # ONLY FOR VIDEO RECORDING\n",
    "\n",
    "for episode in trange ((NUM_EPISODES), desc=\"Test episodes\"):\n",
    "    obs, info = env.reset()\n",
    "    done = truncated = False\n",
    "    while not (done or truncated):\n",
    "        action, _ = model.predict(obs, deterministic=True)\n",
    "        obs, reward, done, truncated, info = env.step(action)\n",
    "env.close()\n",
    "\n",
    "#show_videos() # ONLY FOR VIDEO RECORDING\n"
   ]
  },
  {
   "cell_type": "markdown",
   "metadata": {},
   "source": [
    "#### Save your agent for future use (execute this before restarting the kernel if the training crashes):"
   ]
  },
  {
   "cell_type": "code",
   "execution_count": 19,
   "metadata": {},
   "outputs": [],
   "source": [
    "model.save('pre-trained-model.h5f')"
   ]
  },
  {
   "cell_type": "markdown",
   "metadata": {},
   "source": [
    "#### Reload and test a saved agent from the directory :"
   ]
  },
  {
   "cell_type": "code",
   "execution_count": null,
   "metadata": {},
   "outputs": [],
   "source": [
    "# Reload the model :\n",
    "env = gym.make(\"parking-v0\", render_mode='human')\n",
    "\n",
    "# Load the trained agent (MODIFY THIS PART) :\n",
    "loaded_model = DDPG.load('pre-trained-DDPG-HER.h5f', env=env)\n",
    "NUM_TESTS = 200\n",
    "\n",
    "\n",
    "# Test the loaded agent :\n",
    "obs, _ = env.reset()\n",
    "for episode in range(NUM_TESTS):\n",
    "    obs, info = env.reset()\n",
    "    done = truncated = False\n",
    "    while not (done or truncated):\n",
    "        action, _ = loaded_model.predict(obs, deterministic=True)\n",
    "        obs, reward, done, truncated, info = env.step(action)\n",
    "env.close()\n"
   ]
  },
  {
   "cell_type": "markdown",
   "metadata": {},
   "source": [
    "##### -> Pre-trained model is available for demonstration in the directory : 'pre-trained-DDPG-HER.h5f'"
   ]
  }
 ],
 "metadata": {
  "kernelspec": {
   "display_name": ".venv",
   "language": "python",
   "name": "python3"
  },
  "language_info": {
   "codemirror_mode": {
    "name": "ipython",
    "version": 3
   },
   "file_extension": ".py",
   "mimetype": "text/x-python",
   "name": "python",
   "nbconvert_exporter": "python",
   "pygments_lexer": "ipython3",
   "version": "3.11.3"
  }
 },
 "nbformat": 4,
 "nbformat_minor": 2
}
